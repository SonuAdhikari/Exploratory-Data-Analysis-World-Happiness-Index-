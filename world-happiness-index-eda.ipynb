{
 "cells": [
  {
   "cell_type": "code",
   "execution_count": 1,
   "id": "e816a356",
   "metadata": {
    "_cell_guid": "b1076dfc-b9ad-4769-8c92-a6c4dae69d19",
    "_uuid": "8f2839f25d086af736a60e9eeb907d3b93b6e0e5",
    "execution": {
     "iopub.execute_input": "2023-03-28T11:06:57.791539Z",
     "iopub.status.busy": "2023-03-28T11:06:57.790624Z",
     "iopub.status.idle": "2023-03-28T11:06:57.817829Z",
     "shell.execute_reply": "2023-03-28T11:06:57.816913Z"
    },
    "papermill": {
     "duration": 0.038994,
     "end_time": "2023-03-28T11:06:57.820400",
     "exception": false,
     "start_time": "2023-03-28T11:06:57.781406",
     "status": "completed"
    },
    "tags": []
   },
   "outputs": [
    {
     "name": "stdout",
     "output_type": "stream",
     "text": [
      "/kaggle/input/world-happiness-index-by-reports-2013-2023/World Happiness Index by Reports 2013-2023 no nulls.csv\n",
      "/kaggle/input/world-happiness-index-by-reports-2013-2023/World Happiness Index by Reports 2013-2023 with nulls.csv\n",
      "/kaggle/input/world-happiness-index-by-reports-2013-2023/World Happiness Index by Reports 2013-2023.xlsx\n"
     ]
    }
   ],
   "source": [
    "# This Python 3 environment comes with many helpful analytics libraries installed\n",
    "# It is defined by the kaggle/python Docker image: https://github.com/kaggle/docker-python\n",
    "# For example, here's several helpful packages to load\n",
    "\n",
    "import numpy as np # linear algebra\n",
    "import pandas as pd # data processing, CSV file I/O (e.g. pd.read_csv)\n",
    "\n",
    "# Input data files are available in the read-only \"../input/\" directory\n",
    "# For example, running this (by clicking run or pressing Shift+Enter) will list all files under the input directory\n",
    "\n",
    "import os\n",
    "for dirname, _, filenames in os.walk('/kaggle/input'):\n",
    "    for filename in filenames:\n",
    "        print(os.path.join(dirname, filename))\n",
    "\n",
    "# You can write up to 20GB to the current directory (/kaggle/working/) that gets preserved as output when you create a version using \"Save & Run All\" \n",
    "# You can also write temporary files to /kaggle/temp/, but they won't be saved outside of the current session"
   ]
  },
  {
   "cell_type": "markdown",
   "id": "602c26b5",
   "metadata": {
    "papermill": {
     "duration": 0.005856,
     "end_time": "2023-03-28T11:06:57.833269",
     "exception": false,
     "start_time": "2023-03-28T11:06:57.827413",
     "status": "completed"
    },
    "tags": []
   },
   "source": [
    "**Exploratory Data Analysis of World Happiness Index Data 2013-2023**"
   ]
  },
  {
   "cell_type": "code",
   "execution_count": 2,
   "id": "c80997d0",
   "metadata": {
    "execution": {
     "iopub.execute_input": "2023-03-28T11:06:57.847734Z",
     "iopub.status.busy": "2023-03-28T11:06:57.846869Z",
     "iopub.status.idle": "2023-03-28T11:06:57.851828Z",
     "shell.execute_reply": "2023-03-28T11:06:57.850661Z"
    },
    "papermill": {
     "duration": 0.014951,
     "end_time": "2023-03-28T11:06:57.854296",
     "exception": false,
     "start_time": "2023-03-28T11:06:57.839345",
     "status": "completed"
    },
    "tags": []
   },
   "outputs": [],
   "source": [
    "#importing the libraries\n",
    "import pandas as pd\n",
    "import numpy as np"
   ]
  },
  {
   "cell_type": "code",
   "execution_count": 3,
   "id": "1bd0caf9",
   "metadata": {
    "execution": {
     "iopub.execute_input": "2023-03-28T11:06:57.869055Z",
     "iopub.status.busy": "2023-03-28T11:06:57.868639Z",
     "iopub.status.idle": "2023-03-28T11:06:57.911705Z",
     "shell.execute_reply": "2023-03-28T11:06:57.910306Z"
    },
    "papermill": {
     "duration": 0.053731,
     "end_time": "2023-03-28T11:06:57.914295",
     "exception": false,
     "start_time": "2023-03-28T11:06:57.860564",
     "status": "completed"
    },
    "tags": []
   },
   "outputs": [
    {
     "data": {
      "text/html": [
       "<div>\n",
       "<style scoped>\n",
       "    .dataframe tbody tr th:only-of-type {\n",
       "        vertical-align: middle;\n",
       "    }\n",
       "\n",
       "    .dataframe tbody tr th {\n",
       "        vertical-align: top;\n",
       "    }\n",
       "\n",
       "    .dataframe thead th {\n",
       "        text-align: right;\n",
       "    }\n",
       "</style>\n",
       "<table border=\"1\" class=\"dataframe\">\n",
       "  <thead>\n",
       "    <tr style=\"text-align: right;\">\n",
       "      <th></th>\n",
       "      <th>Country</th>\n",
       "      <th>Year</th>\n",
       "      <th>Index</th>\n",
       "      <th>Rank</th>\n",
       "    </tr>\n",
       "  </thead>\n",
       "  <tbody>\n",
       "    <tr>\n",
       "      <th>0</th>\n",
       "      <td>Afghanistan</td>\n",
       "      <td>2013</td>\n",
       "      <td>4.040</td>\n",
       "      <td>143</td>\n",
       "    </tr>\n",
       "    <tr>\n",
       "      <th>1</th>\n",
       "      <td>Afghanistan</td>\n",
       "      <td>2015</td>\n",
       "      <td>3.575</td>\n",
       "      <td>153</td>\n",
       "    </tr>\n",
       "    <tr>\n",
       "      <th>2</th>\n",
       "      <td>Afghanistan</td>\n",
       "      <td>2016</td>\n",
       "      <td>3.360</td>\n",
       "      <td>154</td>\n",
       "    </tr>\n",
       "    <tr>\n",
       "      <th>3</th>\n",
       "      <td>Afghanistan</td>\n",
       "      <td>2017</td>\n",
       "      <td>3.794</td>\n",
       "      <td>141</td>\n",
       "    </tr>\n",
       "    <tr>\n",
       "      <th>4</th>\n",
       "      <td>Afghanistan</td>\n",
       "      <td>2018</td>\n",
       "      <td>3.632</td>\n",
       "      <td>145</td>\n",
       "    </tr>\n",
       "    <tr>\n",
       "      <th>...</th>\n",
       "      <td>...</td>\n",
       "      <td>...</td>\n",
       "      <td>...</td>\n",
       "      <td>...</td>\n",
       "    </tr>\n",
       "    <tr>\n",
       "      <th>1518</th>\n",
       "      <td>Zimbabwe</td>\n",
       "      <td>2019</td>\n",
       "      <td>3.663</td>\n",
       "      <td>146</td>\n",
       "    </tr>\n",
       "    <tr>\n",
       "      <th>1519</th>\n",
       "      <td>Zimbabwe</td>\n",
       "      <td>2020</td>\n",
       "      <td>3.299</td>\n",
       "      <td>151</td>\n",
       "    </tr>\n",
       "    <tr>\n",
       "      <th>1520</th>\n",
       "      <td>Zimbabwe</td>\n",
       "      <td>2021</td>\n",
       "      <td>3.145</td>\n",
       "      <td>148</td>\n",
       "    </tr>\n",
       "    <tr>\n",
       "      <th>1521</th>\n",
       "      <td>Zimbabwe</td>\n",
       "      <td>2022</td>\n",
       "      <td>2.995</td>\n",
       "      <td>144</td>\n",
       "    </tr>\n",
       "    <tr>\n",
       "      <th>1522</th>\n",
       "      <td>Zimbabwe</td>\n",
       "      <td>2023</td>\n",
       "      <td>3.204</td>\n",
       "      <td>134</td>\n",
       "    </tr>\n",
       "  </tbody>\n",
       "</table>\n",
       "<p>1523 rows × 4 columns</p>\n",
       "</div>"
      ],
      "text/plain": [
       "          Country  Year  Index  Rank\n",
       "0     Afghanistan  2013  4.040   143\n",
       "1     Afghanistan  2015  3.575   153\n",
       "2     Afghanistan  2016  3.360   154\n",
       "3     Afghanistan  2017  3.794   141\n",
       "4     Afghanistan  2018  3.632   145\n",
       "...           ...   ...    ...   ...\n",
       "1518     Zimbabwe  2019  3.663   146\n",
       "1519     Zimbabwe  2020  3.299   151\n",
       "1520     Zimbabwe  2021  3.145   148\n",
       "1521     Zimbabwe  2022  2.995   144\n",
       "1522     Zimbabwe  2023  3.204   134\n",
       "\n",
       "[1523 rows x 4 columns]"
      ]
     },
     "execution_count": 3,
     "metadata": {},
     "output_type": "execute_result"
    }
   ],
   "source": [
    "#Reading the dataset\n",
    "country_list=pd.read_csv(\"/kaggle/input/world-happiness-index-by-reports-2013-2023/World Happiness Index by Reports 2013-2023 no nulls.csv\")\n",
    "country_list"
   ]
  },
  {
   "cell_type": "code",
   "execution_count": 4,
   "id": "218b2765",
   "metadata": {
    "execution": {
     "iopub.execute_input": "2023-03-28T11:06:57.929979Z",
     "iopub.status.busy": "2023-03-28T11:06:57.928773Z",
     "iopub.status.idle": "2023-03-28T11:06:57.941322Z",
     "shell.execute_reply": "2023-03-28T11:06:57.939926Z"
    },
    "papermill": {
     "duration": 0.023274,
     "end_time": "2023-03-28T11:06:57.944101",
     "exception": false,
     "start_time": "2023-03-28T11:06:57.920827",
     "status": "completed"
    },
    "tags": []
   },
   "outputs": [
    {
     "data": {
      "text/html": [
       "<div>\n",
       "<style scoped>\n",
       "    .dataframe tbody tr th:only-of-type {\n",
       "        vertical-align: middle;\n",
       "    }\n",
       "\n",
       "    .dataframe tbody tr th {\n",
       "        vertical-align: top;\n",
       "    }\n",
       "\n",
       "    .dataframe thead th {\n",
       "        text-align: right;\n",
       "    }\n",
       "</style>\n",
       "<table border=\"1\" class=\"dataframe\">\n",
       "  <thead>\n",
       "    <tr style=\"text-align: right;\">\n",
       "      <th></th>\n",
       "      <th>Country</th>\n",
       "      <th>Year</th>\n",
       "      <th>Index</th>\n",
       "      <th>Rank</th>\n",
       "    </tr>\n",
       "  </thead>\n",
       "  <tbody>\n",
       "    <tr>\n",
       "      <th>0</th>\n",
       "      <td>Afghanistan</td>\n",
       "      <td>2013</td>\n",
       "      <td>4.040</td>\n",
       "      <td>143</td>\n",
       "    </tr>\n",
       "    <tr>\n",
       "      <th>1</th>\n",
       "      <td>Afghanistan</td>\n",
       "      <td>2015</td>\n",
       "      <td>3.575</td>\n",
       "      <td>153</td>\n",
       "    </tr>\n",
       "    <tr>\n",
       "      <th>2</th>\n",
       "      <td>Afghanistan</td>\n",
       "      <td>2016</td>\n",
       "      <td>3.360</td>\n",
       "      <td>154</td>\n",
       "    </tr>\n",
       "    <tr>\n",
       "      <th>3</th>\n",
       "      <td>Afghanistan</td>\n",
       "      <td>2017</td>\n",
       "      <td>3.794</td>\n",
       "      <td>141</td>\n",
       "    </tr>\n",
       "    <tr>\n",
       "      <th>4</th>\n",
       "      <td>Afghanistan</td>\n",
       "      <td>2018</td>\n",
       "      <td>3.632</td>\n",
       "      <td>145</td>\n",
       "    </tr>\n",
       "  </tbody>\n",
       "</table>\n",
       "</div>"
      ],
      "text/plain": [
       "       Country  Year  Index  Rank\n",
       "0  Afghanistan  2013  4.040   143\n",
       "1  Afghanistan  2015  3.575   153\n",
       "2  Afghanistan  2016  3.360   154\n",
       "3  Afghanistan  2017  3.794   141\n",
       "4  Afghanistan  2018  3.632   145"
      ]
     },
     "execution_count": 4,
     "metadata": {},
     "output_type": "execute_result"
    }
   ],
   "source": [
    "#getting the top 5 rows from the dataset\n",
    "country_list.head()"
   ]
  },
  {
   "cell_type": "code",
   "execution_count": 5,
   "id": "e59447e2",
   "metadata": {
    "execution": {
     "iopub.execute_input": "2023-03-28T11:06:57.959597Z",
     "iopub.status.busy": "2023-03-28T11:06:57.958420Z",
     "iopub.status.idle": "2023-03-28T11:06:57.965938Z",
     "shell.execute_reply": "2023-03-28T11:06:57.964977Z"
    },
    "papermill": {
     "duration": 0.017617,
     "end_time": "2023-03-28T11:06:57.968280",
     "exception": false,
     "start_time": "2023-03-28T11:06:57.950663",
     "status": "completed"
    },
    "tags": []
   },
   "outputs": [
    {
     "data": {
      "text/plain": [
       "(1523, 4)"
      ]
     },
     "execution_count": 5,
     "metadata": {},
     "output_type": "execute_result"
    }
   ],
   "source": [
    "#showing the number of rows and columns\n",
    "country_list.shape"
   ]
  },
  {
   "cell_type": "code",
   "execution_count": 6,
   "id": "382213ad",
   "metadata": {
    "execution": {
     "iopub.execute_input": "2023-03-28T11:06:57.983536Z",
     "iopub.status.busy": "2023-03-28T11:06:57.982872Z",
     "iopub.status.idle": "2023-03-28T11:06:57.994703Z",
     "shell.execute_reply": "2023-03-28T11:06:57.993561Z"
    },
    "papermill": {
     "duration": 0.022273,
     "end_time": "2023-03-28T11:06:57.997204",
     "exception": false,
     "start_time": "2023-03-28T11:06:57.974931",
     "status": "completed"
    },
    "tags": []
   },
   "outputs": [
    {
     "data": {
      "text/html": [
       "<div>\n",
       "<style scoped>\n",
       "    .dataframe tbody tr th:only-of-type {\n",
       "        vertical-align: middle;\n",
       "    }\n",
       "\n",
       "    .dataframe tbody tr th {\n",
       "        vertical-align: top;\n",
       "    }\n",
       "\n",
       "    .dataframe thead th {\n",
       "        text-align: right;\n",
       "    }\n",
       "</style>\n",
       "<table border=\"1\" class=\"dataframe\">\n",
       "  <thead>\n",
       "    <tr style=\"text-align: right;\">\n",
       "      <th></th>\n",
       "      <th>Country</th>\n",
       "      <th>Year</th>\n",
       "      <th>Index</th>\n",
       "      <th>Rank</th>\n",
       "    </tr>\n",
       "  </thead>\n",
       "  <tbody>\n",
       "    <tr>\n",
       "      <th>1518</th>\n",
       "      <td>Zimbabwe</td>\n",
       "      <td>2019</td>\n",
       "      <td>3.663</td>\n",
       "      <td>146</td>\n",
       "    </tr>\n",
       "    <tr>\n",
       "      <th>1519</th>\n",
       "      <td>Zimbabwe</td>\n",
       "      <td>2020</td>\n",
       "      <td>3.299</td>\n",
       "      <td>151</td>\n",
       "    </tr>\n",
       "    <tr>\n",
       "      <th>1520</th>\n",
       "      <td>Zimbabwe</td>\n",
       "      <td>2021</td>\n",
       "      <td>3.145</td>\n",
       "      <td>148</td>\n",
       "    </tr>\n",
       "    <tr>\n",
       "      <th>1521</th>\n",
       "      <td>Zimbabwe</td>\n",
       "      <td>2022</td>\n",
       "      <td>2.995</td>\n",
       "      <td>144</td>\n",
       "    </tr>\n",
       "    <tr>\n",
       "      <th>1522</th>\n",
       "      <td>Zimbabwe</td>\n",
       "      <td>2023</td>\n",
       "      <td>3.204</td>\n",
       "      <td>134</td>\n",
       "    </tr>\n",
       "  </tbody>\n",
       "</table>\n",
       "</div>"
      ],
      "text/plain": [
       "       Country  Year  Index  Rank\n",
       "1518  Zimbabwe  2019  3.663   146\n",
       "1519  Zimbabwe  2020  3.299   151\n",
       "1520  Zimbabwe  2021  3.145   148\n",
       "1521  Zimbabwe  2022  2.995   144\n",
       "1522  Zimbabwe  2023  3.204   134"
      ]
     },
     "execution_count": 6,
     "metadata": {},
     "output_type": "execute_result"
    }
   ],
   "source": [
    "#getting the last 5 rows from the dataset\n",
    "country_list.tail()"
   ]
  },
  {
   "cell_type": "code",
   "execution_count": 7,
   "id": "ed245cb8",
   "metadata": {
    "execution": {
     "iopub.execute_input": "2023-03-28T11:06:58.013396Z",
     "iopub.status.busy": "2023-03-28T11:06:58.012232Z",
     "iopub.status.idle": "2023-03-28T11:06:58.037116Z",
     "shell.execute_reply": "2023-03-28T11:06:58.035523Z"
    },
    "papermill": {
     "duration": 0.035765,
     "end_time": "2023-03-28T11:06:58.039790",
     "exception": false,
     "start_time": "2023-03-28T11:06:58.004025",
     "status": "completed"
    },
    "tags": []
   },
   "outputs": [
    {
     "name": "stdout",
     "output_type": "stream",
     "text": [
      "<class 'pandas.core.frame.DataFrame'>\n",
      "RangeIndex: 1523 entries, 0 to 1522\n",
      "Data columns (total 4 columns):\n",
      " #   Column   Non-Null Count  Dtype  \n",
      "---  ------   --------------  -----  \n",
      " 0   Country  1523 non-null   object \n",
      " 1   Year     1523 non-null   int64  \n",
      " 2   Index    1523 non-null   float64\n",
      " 3   Rank     1523 non-null   int64  \n",
      "dtypes: float64(1), int64(2), object(1)\n",
      "memory usage: 47.7+ KB\n"
     ]
    }
   ],
   "source": [
    "#getting a brief summary of the dataframe\n",
    "country_list.info()"
   ]
  },
  {
   "cell_type": "code",
   "execution_count": 8,
   "id": "6ba67436",
   "metadata": {
    "execution": {
     "iopub.execute_input": "2023-03-28T11:06:58.055999Z",
     "iopub.status.busy": "2023-03-28T11:06:58.055537Z",
     "iopub.status.idle": "2023-03-28T11:06:58.062518Z",
     "shell.execute_reply": "2023-03-28T11:06:58.061354Z"
    },
    "papermill": {
     "duration": 0.018145,
     "end_time": "2023-03-28T11:06:58.065093",
     "exception": false,
     "start_time": "2023-03-28T11:06:58.046948",
     "status": "completed"
    },
    "tags": []
   },
   "outputs": [
    {
     "data": {
      "text/plain": [
       "6092"
      ]
     },
     "execution_count": 8,
     "metadata": {},
     "output_type": "execute_result"
    }
   ],
   "source": [
    "#number of elements in this dataframe\n",
    "country_list.size"
   ]
  },
  {
   "cell_type": "code",
   "execution_count": 9,
   "id": "69efeba5",
   "metadata": {
    "execution": {
     "iopub.execute_input": "2023-03-28T11:06:58.082072Z",
     "iopub.status.busy": "2023-03-28T11:06:58.081314Z",
     "iopub.status.idle": "2023-03-28T11:06:58.087440Z",
     "shell.execute_reply": "2023-03-28T11:06:58.086639Z"
    },
    "papermill": {
     "duration": 0.017153,
     "end_time": "2023-03-28T11:06:58.089549",
     "exception": false,
     "start_time": "2023-03-28T11:06:58.072396",
     "status": "completed"
    },
    "tags": []
   },
   "outputs": [
    {
     "data": {
      "text/plain": [
       "2"
      ]
     },
     "execution_count": 9,
     "metadata": {},
     "output_type": "execute_result"
    }
   ],
   "source": [
    "#returns dimension of dataframe\n",
    "country_list.ndim"
   ]
  },
  {
   "cell_type": "code",
   "execution_count": 10,
   "id": "cdbe0109",
   "metadata": {
    "execution": {
     "iopub.execute_input": "2023-03-28T11:06:58.106009Z",
     "iopub.status.busy": "2023-03-28T11:06:58.105547Z",
     "iopub.status.idle": "2023-03-28T11:06:58.129172Z",
     "shell.execute_reply": "2023-03-28T11:06:58.127884Z"
    },
    "papermill": {
     "duration": 0.035234,
     "end_time": "2023-03-28T11:06:58.131943",
     "exception": false,
     "start_time": "2023-03-28T11:06:58.096709",
     "status": "completed"
    },
    "tags": []
   },
   "outputs": [
    {
     "data": {
      "text/html": [
       "<div>\n",
       "<style scoped>\n",
       "    .dataframe tbody tr th:only-of-type {\n",
       "        vertical-align: middle;\n",
       "    }\n",
       "\n",
       "    .dataframe tbody tr th {\n",
       "        vertical-align: top;\n",
       "    }\n",
       "\n",
       "    .dataframe thead th {\n",
       "        text-align: right;\n",
       "    }\n",
       "</style>\n",
       "<table border=\"1\" class=\"dataframe\">\n",
       "  <thead>\n",
       "    <tr style=\"text-align: right;\">\n",
       "      <th></th>\n",
       "      <th>Year</th>\n",
       "      <th>Index</th>\n",
       "      <th>Rank</th>\n",
       "    </tr>\n",
       "  </thead>\n",
       "  <tbody>\n",
       "    <tr>\n",
       "      <th>count</th>\n",
       "      <td>1523.000000</td>\n",
       "      <td>1523.000000</td>\n",
       "      <td>1523.000000</td>\n",
       "    </tr>\n",
       "    <tr>\n",
       "      <th>mean</th>\n",
       "      <td>2018.298752</td>\n",
       "      <td>5.438242</td>\n",
       "      <td>76.777413</td>\n",
       "    </tr>\n",
       "    <tr>\n",
       "      <th>std</th>\n",
       "      <td>3.015408</td>\n",
       "      <td>1.115623</td>\n",
       "      <td>44.190303</td>\n",
       "    </tr>\n",
       "    <tr>\n",
       "      <th>min</th>\n",
       "      <td>2013.000000</td>\n",
       "      <td>1.859000</td>\n",
       "      <td>1.000000</td>\n",
       "    </tr>\n",
       "    <tr>\n",
       "      <th>25%</th>\n",
       "      <td>2016.000000</td>\n",
       "      <td>4.594000</td>\n",
       "      <td>39.000000</td>\n",
       "    </tr>\n",
       "    <tr>\n",
       "      <th>50%</th>\n",
       "      <td>2018.000000</td>\n",
       "      <td>5.425000</td>\n",
       "      <td>77.000000</td>\n",
       "    </tr>\n",
       "    <tr>\n",
       "      <th>75%</th>\n",
       "      <td>2021.000000</td>\n",
       "      <td>6.258500</td>\n",
       "      <td>115.000000</td>\n",
       "    </tr>\n",
       "    <tr>\n",
       "      <th>max</th>\n",
       "      <td>2023.000000</td>\n",
       "      <td>7.842000</td>\n",
       "      <td>158.000000</td>\n",
       "    </tr>\n",
       "  </tbody>\n",
       "</table>\n",
       "</div>"
      ],
      "text/plain": [
       "              Year        Index         Rank\n",
       "count  1523.000000  1523.000000  1523.000000\n",
       "mean   2018.298752     5.438242    76.777413\n",
       "std       3.015408     1.115623    44.190303\n",
       "min    2013.000000     1.859000     1.000000\n",
       "25%    2016.000000     4.594000    39.000000\n",
       "50%    2018.000000     5.425000    77.000000\n",
       "75%    2021.000000     6.258500   115.000000\n",
       "max    2023.000000     7.842000   158.000000"
      ]
     },
     "execution_count": 10,
     "metadata": {},
     "output_type": "execute_result"
    }
   ],
   "source": [
    "#statistical summary for numerical columns present in the dataset\n",
    "country_list.describe()"
   ]
  },
  {
   "cell_type": "code",
   "execution_count": 11,
   "id": "45058e5f",
   "metadata": {
    "execution": {
     "iopub.execute_input": "2023-03-28T11:06:58.149971Z",
     "iopub.status.busy": "2023-03-28T11:06:58.149515Z",
     "iopub.status.idle": "2023-03-28T11:06:58.163388Z",
     "shell.execute_reply": "2023-03-28T11:06:58.162412Z"
    },
    "papermill": {
     "duration": 0.025264,
     "end_time": "2023-03-28T11:06:58.165840",
     "exception": false,
     "start_time": "2023-03-28T11:06:58.140576",
     "status": "completed"
    },
    "tags": []
   },
   "outputs": [
    {
     "data": {
      "text/html": [
       "<div>\n",
       "<style scoped>\n",
       "    .dataframe tbody tr th:only-of-type {\n",
       "        vertical-align: middle;\n",
       "    }\n",
       "\n",
       "    .dataframe tbody tr th {\n",
       "        vertical-align: top;\n",
       "    }\n",
       "\n",
       "    .dataframe thead th {\n",
       "        text-align: right;\n",
       "    }\n",
       "</style>\n",
       "<table border=\"1\" class=\"dataframe\">\n",
       "  <thead>\n",
       "    <tr style=\"text-align: right;\">\n",
       "      <th></th>\n",
       "      <th>Country</th>\n",
       "      <th>Year</th>\n",
       "      <th>Index</th>\n",
       "      <th>Rank</th>\n",
       "    </tr>\n",
       "  </thead>\n",
       "  <tbody>\n",
       "    <tr>\n",
       "      <th>47</th>\n",
       "      <td>Armenia</td>\n",
       "      <td>2016</td>\n",
       "      <td>4.36</td>\n",
       "      <td>121</td>\n",
       "    </tr>\n",
       "  </tbody>\n",
       "</table>\n",
       "</div>"
      ],
      "text/plain": [
       "    Country  Year  Index  Rank\n",
       "47  Armenia  2016   4.36   121"
      ]
     },
     "execution_count": 11,
     "metadata": {},
     "output_type": "execute_result"
    }
   ],
   "source": [
    "#returns random sample from dataset\n",
    "country_list.sample()"
   ]
  },
  {
   "cell_type": "code",
   "execution_count": 12,
   "id": "bf7f3093",
   "metadata": {
    "execution": {
     "iopub.execute_input": "2023-03-28T11:06:58.183018Z",
     "iopub.status.busy": "2023-03-28T11:06:58.182579Z",
     "iopub.status.idle": "2023-03-28T11:06:58.192871Z",
     "shell.execute_reply": "2023-03-28T11:06:58.191505Z"
    },
    "papermill": {
     "duration": 0.021655,
     "end_time": "2023-03-28T11:06:58.195121",
     "exception": false,
     "start_time": "2023-03-28T11:06:58.173466",
     "status": "completed"
    },
    "tags": []
   },
   "outputs": [
    {
     "data": {
      "text/plain": [
       "Country    0\n",
       "Year       0\n",
       "Index      0\n",
       "Rank       0\n",
       "dtype: int64"
      ]
     },
     "execution_count": 12,
     "metadata": {},
     "output_type": "execute_result"
    }
   ],
   "source": [
    "#returns the number of null values in each columns\n",
    "country_list.isnull( ).sum( )"
   ]
  },
  {
   "cell_type": "code",
   "execution_count": 13,
   "id": "4aec67d8",
   "metadata": {
    "execution": {
     "iopub.execute_input": "2023-03-28T11:06:58.212121Z",
     "iopub.status.busy": "2023-03-28T11:06:58.211726Z",
     "iopub.status.idle": "2023-03-28T11:06:58.229196Z",
     "shell.execute_reply": "2023-03-28T11:06:58.226873Z"
    },
    "papermill": {
     "duration": 0.030073,
     "end_time": "2023-03-28T11:06:58.232863",
     "exception": false,
     "start_time": "2023-03-28T11:06:58.202790",
     "status": "completed"
    },
    "tags": []
   },
   "outputs": [
    {
     "data": {
      "text/plain": [
       "Country     167\n",
       "Year         10\n",
       "Index      1209\n",
       "Rank        158\n",
       "dtype: int64"
      ]
     },
     "execution_count": 13,
     "metadata": {},
     "output_type": "execute_result"
    }
   ],
   "source": [
    "#Returns number of unique entries in each columns\n",
    "country_list.nunique()"
   ]
  },
  {
   "cell_type": "code",
   "execution_count": 14,
   "id": "e43b4d4e",
   "metadata": {
    "execution": {
     "iopub.execute_input": "2023-03-28T11:06:58.255740Z",
     "iopub.status.busy": "2023-03-28T11:06:58.253827Z",
     "iopub.status.idle": "2023-03-28T11:06:58.262663Z",
     "shell.execute_reply": "2023-03-28T11:06:58.260830Z"
    },
    "papermill": {
     "duration": 0.023041,
     "end_time": "2023-03-28T11:06:58.266192",
     "exception": false,
     "start_time": "2023-03-28T11:06:58.243151",
     "status": "completed"
    },
    "tags": []
   },
   "outputs": [
    {
     "data": {
      "text/plain": [
       "RangeIndex(start=0, stop=1523, step=1)"
      ]
     },
     "execution_count": 14,
     "metadata": {},
     "output_type": "execute_result"
    }
   ],
   "source": [
    "#returns starting and ending index values\n",
    "country_list.index"
   ]
  },
  {
   "cell_type": "code",
   "execution_count": 15,
   "id": "afc92698",
   "metadata": {
    "execution": {
     "iopub.execute_input": "2023-03-28T11:06:58.292970Z",
     "iopub.status.busy": "2023-03-28T11:06:58.291622Z",
     "iopub.status.idle": "2023-03-28T11:06:58.300640Z",
     "shell.execute_reply": "2023-03-28T11:06:58.299232Z"
    },
    "papermill": {
     "duration": 0.026092,
     "end_time": "2023-03-28T11:06:58.304166",
     "exception": false,
     "start_time": "2023-03-28T11:06:58.278074",
     "status": "completed"
    },
    "tags": []
   },
   "outputs": [
    {
     "data": {
      "text/plain": [
       "Index(['Country', 'Year', 'Index', 'Rank'], dtype='object')"
      ]
     },
     "execution_count": 15,
     "metadata": {},
     "output_type": "execute_result"
    }
   ],
   "source": [
    "#lists the columns in the dataset\n",
    "country_list.columns"
   ]
  },
  {
   "cell_type": "code",
   "execution_count": 16,
   "id": "36e95e7e",
   "metadata": {
    "execution": {
     "iopub.execute_input": "2023-03-28T11:06:58.326825Z",
     "iopub.status.busy": "2023-03-28T11:06:58.325597Z",
     "iopub.status.idle": "2023-03-28T11:06:58.333810Z",
     "shell.execute_reply": "2023-03-28T11:06:58.332924Z"
    },
    "papermill": {
     "duration": 0.020342,
     "end_time": "2023-03-28T11:06:58.336012",
     "exception": false,
     "start_time": "2023-03-28T11:06:58.315670",
     "status": "completed"
    },
    "tags": []
   },
   "outputs": [
    {
     "data": {
      "text/plain": [
       "Index        128\n",
       "Country    12184\n",
       "Year       12184\n",
       "Index      12184\n",
       "Rank       12184\n",
       "dtype: int64"
      ]
     },
     "execution_count": 16,
     "metadata": {},
     "output_type": "execute_result"
    }
   ],
   "source": [
    "#returns memory usage in bytes\n",
    "country_list.memory_usage( )"
   ]
  },
  {
   "cell_type": "code",
   "execution_count": 17,
   "id": "92fa07f7",
   "metadata": {
    "execution": {
     "iopub.execute_input": "2023-03-28T11:06:58.354219Z",
     "iopub.status.busy": "2023-03-28T11:06:58.353814Z",
     "iopub.status.idle": "2023-03-28T11:06:58.363678Z",
     "shell.execute_reply": "2023-03-28T11:06:58.362467Z"
    },
    "papermill": {
     "duration": 0.022139,
     "end_time": "2023-03-28T11:06:58.366268",
     "exception": false,
     "start_time": "2023-03-28T11:06:58.344129",
     "status": "completed"
    },
    "tags": []
   },
   "outputs": [
    {
     "data": {
      "text/plain": [
       "(1523, 4)"
      ]
     },
     "execution_count": 17,
     "metadata": {},
     "output_type": "execute_result"
    }
   ],
   "source": [
    "#drops any missing values\n",
    "country_list.dropna( )\n",
    "country_list.shape"
   ]
  },
  {
   "cell_type": "code",
   "execution_count": 18,
   "id": "27f5dc60",
   "metadata": {
    "execution": {
     "iopub.execute_input": "2023-03-28T11:06:58.384434Z",
     "iopub.status.busy": "2023-03-28T11:06:58.384046Z",
     "iopub.status.idle": "2023-03-28T11:06:58.392264Z",
     "shell.execute_reply": "2023-03-28T11:06:58.391112Z"
    },
    "papermill": {
     "duration": 0.020402,
     "end_time": "2023-03-28T11:06:58.394785",
     "exception": false,
     "start_time": "2023-03-28T11:06:58.374383",
     "status": "completed"
    },
    "tags": []
   },
   "outputs": [
    {
     "data": {
      "text/plain": [
       "Country     object\n",
       "Year         int64\n",
       "Index      float64\n",
       "Rank         int64\n",
       "dtype: object"
      ]
     },
     "execution_count": 18,
     "metadata": {},
     "output_type": "execute_result"
    }
   ],
   "source": [
    "#returns the datatype of the columns\n",
    "country_list.dtypes"
   ]
  },
  {
   "cell_type": "code",
   "execution_count": 19,
   "id": "70c50528",
   "metadata": {
    "execution": {
     "iopub.execute_input": "2023-03-28T11:06:58.413395Z",
     "iopub.status.busy": "2023-03-28T11:06:58.413005Z",
     "iopub.status.idle": "2023-03-28T11:06:58.426980Z",
     "shell.execute_reply": "2023-03-28T11:06:58.425650Z"
    },
    "papermill": {
     "duration": 0.02624,
     "end_time": "2023-03-28T11:06:58.429383",
     "exception": false,
     "start_time": "2023-03-28T11:06:58.403143",
     "status": "completed"
    },
    "tags": []
   },
   "outputs": [
    {
     "data": {
      "text/html": [
       "<div>\n",
       "<style scoped>\n",
       "    .dataframe tbody tr th:only-of-type {\n",
       "        vertical-align: middle;\n",
       "    }\n",
       "\n",
       "    .dataframe tbody tr th {\n",
       "        vertical-align: top;\n",
       "    }\n",
       "\n",
       "    .dataframe thead th {\n",
       "        text-align: right;\n",
       "    }\n",
       "</style>\n",
       "<table border=\"1\" class=\"dataframe\">\n",
       "  <thead>\n",
       "    <tr style=\"text-align: right;\">\n",
       "      <th></th>\n",
       "      <th>Year</th>\n",
       "      <th>Index</th>\n",
       "      <th>Rank</th>\n",
       "    </tr>\n",
       "  </thead>\n",
       "  <tbody>\n",
       "    <tr>\n",
       "      <th>Year</th>\n",
       "      <td>1.000000</td>\n",
       "      <td>0.050023</td>\n",
       "      <td>-0.055326</td>\n",
       "    </tr>\n",
       "    <tr>\n",
       "      <th>Index</th>\n",
       "      <td>0.050023</td>\n",
       "      <td>1.000000</td>\n",
       "      <td>-0.986288</td>\n",
       "    </tr>\n",
       "    <tr>\n",
       "      <th>Rank</th>\n",
       "      <td>-0.055326</td>\n",
       "      <td>-0.986288</td>\n",
       "      <td>1.000000</td>\n",
       "    </tr>\n",
       "  </tbody>\n",
       "</table>\n",
       "</div>"
      ],
      "text/plain": [
       "           Year     Index      Rank\n",
       "Year   1.000000  0.050023 -0.055326\n",
       "Index  0.050023  1.000000 -0.986288\n",
       "Rank  -0.055326 -0.986288  1.000000"
      ]
     },
     "execution_count": 19,
     "metadata": {},
     "output_type": "execute_result"
    }
   ],
   "source": [
    "#find the pairwise correlation of all columns in the dataframe \n",
    "#used for feature selection\n",
    "country_list.corr( )"
   ]
  },
  {
   "cell_type": "code",
   "execution_count": 20,
   "id": "51758e21",
   "metadata": {
    "execution": {
     "iopub.execute_input": "2023-03-28T11:06:58.448110Z",
     "iopub.status.busy": "2023-03-28T11:06:58.447714Z",
     "iopub.status.idle": "2023-03-28T11:06:58.456224Z",
     "shell.execute_reply": "2023-03-28T11:06:58.455086Z"
    },
    "papermill": {
     "duration": 0.020893,
     "end_time": "2023-03-28T11:06:58.458738",
     "exception": false,
     "start_time": "2023-03-28T11:06:58.437845",
     "status": "completed"
    },
    "tags": []
   },
   "outputs": [
    {
     "data": {
      "text/plain": [
       "2015    158\n",
       "2016    157\n",
       "2013    156\n",
       "2018    156\n",
       "2019    156\n",
       "2017    155\n",
       "2020    153\n",
       "2021    149\n",
       "2022    146\n",
       "2023    137\n",
       "Name: Year, dtype: int64"
      ]
     },
     "execution_count": 20,
     "metadata": {},
     "output_type": "execute_result"
    }
   ],
   "source": [
    "#used to get a Series containing counts of unique values\n",
    "country_list['Year'].value_counts( )"
   ]
  },
  {
   "cell_type": "code",
   "execution_count": 21,
   "id": "a4a31839",
   "metadata": {
    "execution": {
     "iopub.execute_input": "2023-03-28T11:06:58.477901Z",
     "iopub.status.busy": "2023-03-28T11:06:58.477483Z",
     "iopub.status.idle": "2023-03-28T11:06:58.493170Z",
     "shell.execute_reply": "2023-03-28T11:06:58.491933Z"
    },
    "papermill": {
     "duration": 0.028386,
     "end_time": "2023-03-28T11:06:58.495691",
     "exception": false,
     "start_time": "2023-03-28T11:06:58.467305",
     "status": "completed"
    },
    "tags": []
   },
   "outputs": [
    {
     "data": {
      "text/html": [
       "<div>\n",
       "<style scoped>\n",
       "    .dataframe tbody tr th:only-of-type {\n",
       "        vertical-align: middle;\n",
       "    }\n",
       "\n",
       "    .dataframe tbody tr th {\n",
       "        vertical-align: top;\n",
       "    }\n",
       "\n",
       "    .dataframe thead th {\n",
       "        text-align: right;\n",
       "    }\n",
       "</style>\n",
       "<table border=\"1\" class=\"dataframe\">\n",
       "  <thead>\n",
       "    <tr style=\"text-align: right;\">\n",
       "      <th></th>\n",
       "      <th>Country</th>\n",
       "      <th>Year</th>\n",
       "      <th>Index</th>\n",
       "      <th>Rank</th>\n",
       "    </tr>\n",
       "  </thead>\n",
       "  <tbody>\n",
       "    <tr>\n",
       "      <th>0</th>\n",
       "      <td>False</td>\n",
       "      <td>False</td>\n",
       "      <td>False</td>\n",
       "      <td>False</td>\n",
       "    </tr>\n",
       "    <tr>\n",
       "      <th>1</th>\n",
       "      <td>False</td>\n",
       "      <td>False</td>\n",
       "      <td>False</td>\n",
       "      <td>False</td>\n",
       "    </tr>\n",
       "    <tr>\n",
       "      <th>2</th>\n",
       "      <td>False</td>\n",
       "      <td>False</td>\n",
       "      <td>False</td>\n",
       "      <td>False</td>\n",
       "    </tr>\n",
       "    <tr>\n",
       "      <th>3</th>\n",
       "      <td>False</td>\n",
       "      <td>False</td>\n",
       "      <td>False</td>\n",
       "      <td>False</td>\n",
       "    </tr>\n",
       "    <tr>\n",
       "      <th>4</th>\n",
       "      <td>False</td>\n",
       "      <td>False</td>\n",
       "      <td>False</td>\n",
       "      <td>False</td>\n",
       "    </tr>\n",
       "    <tr>\n",
       "      <th>...</th>\n",
       "      <td>...</td>\n",
       "      <td>...</td>\n",
       "      <td>...</td>\n",
       "      <td>...</td>\n",
       "    </tr>\n",
       "    <tr>\n",
       "      <th>1518</th>\n",
       "      <td>False</td>\n",
       "      <td>False</td>\n",
       "      <td>False</td>\n",
       "      <td>False</td>\n",
       "    </tr>\n",
       "    <tr>\n",
       "      <th>1519</th>\n",
       "      <td>False</td>\n",
       "      <td>False</td>\n",
       "      <td>False</td>\n",
       "      <td>False</td>\n",
       "    </tr>\n",
       "    <tr>\n",
       "      <th>1520</th>\n",
       "      <td>False</td>\n",
       "      <td>False</td>\n",
       "      <td>False</td>\n",
       "      <td>False</td>\n",
       "    </tr>\n",
       "    <tr>\n",
       "      <th>1521</th>\n",
       "      <td>False</td>\n",
       "      <td>False</td>\n",
       "      <td>False</td>\n",
       "      <td>False</td>\n",
       "    </tr>\n",
       "    <tr>\n",
       "      <th>1522</th>\n",
       "      <td>False</td>\n",
       "      <td>False</td>\n",
       "      <td>False</td>\n",
       "      <td>False</td>\n",
       "    </tr>\n",
       "  </tbody>\n",
       "</table>\n",
       "<p>1523 rows × 4 columns</p>\n",
       "</div>"
      ],
      "text/plain": [
       "      Country   Year  Index   Rank\n",
       "0       False  False  False  False\n",
       "1       False  False  False  False\n",
       "2       False  False  False  False\n",
       "3       False  False  False  False\n",
       "4       False  False  False  False\n",
       "...       ...    ...    ...    ...\n",
       "1518    False  False  False  False\n",
       "1519    False  False  False  False\n",
       "1520    False  False  False  False\n",
       "1521    False  False  False  False\n",
       "1522    False  False  False  False\n",
       "\n",
       "[1523 rows x 4 columns]"
      ]
     },
     "execution_count": 21,
     "metadata": {},
     "output_type": "execute_result"
    }
   ],
   "source": [
    "#returns a dataframe filled with boolean values with true indicating missing values.\n",
    "country_list.isna()"
   ]
  },
  {
   "cell_type": "code",
   "execution_count": 22,
   "id": "fe9cda6a",
   "metadata": {
    "execution": {
     "iopub.execute_input": "2023-03-28T11:06:58.515476Z",
     "iopub.status.busy": "2023-03-28T11:06:58.514756Z",
     "iopub.status.idle": "2023-03-28T11:06:58.530790Z",
     "shell.execute_reply": "2023-03-28T11:06:58.529656Z"
    },
    "papermill": {
     "duration": 0.028818,
     "end_time": "2023-03-28T11:06:58.533218",
     "exception": false,
     "start_time": "2023-03-28T11:06:58.504400",
     "status": "completed"
    },
    "tags": []
   },
   "outputs": [
    {
     "data": {
      "text/html": [
       "<div>\n",
       "<style scoped>\n",
       "    .dataframe tbody tr th:only-of-type {\n",
       "        vertical-align: middle;\n",
       "    }\n",
       "\n",
       "    .dataframe tbody tr th {\n",
       "        vertical-align: top;\n",
       "    }\n",
       "\n",
       "    .dataframe thead th {\n",
       "        text-align: right;\n",
       "    }\n",
       "</style>\n",
       "<table border=\"1\" class=\"dataframe\">\n",
       "  <thead>\n",
       "    <tr style=\"text-align: right;\">\n",
       "      <th></th>\n",
       "      <th>Country</th>\n",
       "      <th>Year</th>\n",
       "      <th>Index</th>\n",
       "      <th>Rank</th>\n",
       "    </tr>\n",
       "  </thead>\n",
       "  <tbody>\n",
       "    <tr>\n",
       "      <th>431</th>\n",
       "      <td>Finland</td>\n",
       "      <td>2021</td>\n",
       "      <td>7.842</td>\n",
       "      <td>1</td>\n",
       "    </tr>\n",
       "    <tr>\n",
       "      <th>432</th>\n",
       "      <td>Finland</td>\n",
       "      <td>2022</td>\n",
       "      <td>7.821</td>\n",
       "      <td>1</td>\n",
       "    </tr>\n",
       "    <tr>\n",
       "      <th>430</th>\n",
       "      <td>Finland</td>\n",
       "      <td>2020</td>\n",
       "      <td>7.809</td>\n",
       "      <td>1</td>\n",
       "    </tr>\n",
       "    <tr>\n",
       "      <th>433</th>\n",
       "      <td>Finland</td>\n",
       "      <td>2023</td>\n",
       "      <td>7.804</td>\n",
       "      <td>1</td>\n",
       "    </tr>\n",
       "    <tr>\n",
       "      <th>429</th>\n",
       "      <td>Finland</td>\n",
       "      <td>2019</td>\n",
       "      <td>7.769</td>\n",
       "      <td>1</td>\n",
       "    </tr>\n",
       "  </tbody>\n",
       "</table>\n",
       "</div>"
      ],
      "text/plain": [
       "     Country  Year  Index  Rank\n",
       "431  Finland  2021  7.842     1\n",
       "432  Finland  2022  7.821     1\n",
       "430  Finland  2020  7.809     1\n",
       "433  Finland  2023  7.804     1\n",
       "429  Finland  2019  7.769     1"
      ]
     },
     "execution_count": 22,
     "metadata": {},
     "output_type": "execute_result"
    }
   ],
   "source": [
    "#Returns the first n rows ordered by columns in descending order\n",
    "country_list.nlargest(5,'Index')"
   ]
  },
  {
   "cell_type": "code",
   "execution_count": 23,
   "id": "8dd62d9b",
   "metadata": {
    "execution": {
     "iopub.execute_input": "2023-03-28T11:06:58.552945Z",
     "iopub.status.busy": "2023-03-28T11:06:58.552548Z",
     "iopub.status.idle": "2023-03-28T11:06:58.561748Z",
     "shell.execute_reply": "2023-03-28T11:06:58.560648Z"
    },
    "papermill": {
     "duration": 0.022061,
     "end_time": "2023-03-28T11:06:58.564187",
     "exception": false,
     "start_time": "2023-03-28T11:06:58.542126",
     "status": "completed"
    },
    "tags": []
   },
   "outputs": [
    {
     "data": {
      "text/plain": [
       "0"
      ]
     },
     "execution_count": 23,
     "metadata": {},
     "output_type": "execute_result"
    }
   ],
   "source": [
    "# returns a boolean Series denoting duplicate rows (not applicable in this dataset)\n",
    "duplicates=country_list.duplicated()\n",
    "duplicates.sum()"
   ]
  }
 ],
 "metadata": {
  "kernelspec": {
   "display_name": "Python 3",
   "language": "python",
   "name": "python3"
  },
  "language_info": {
   "codemirror_mode": {
    "name": "ipython",
    "version": 3
   },
   "file_extension": ".py",
   "mimetype": "text/x-python",
   "name": "python",
   "nbconvert_exporter": "python",
   "pygments_lexer": "ipython3",
   "version": "3.7.12"
  },
  "papermill": {
   "default_parameters": {},
   "duration": 11.814909,
   "end_time": "2023-03-28T11:06:59.193888",
   "environment_variables": {},
   "exception": null,
   "input_path": "__notebook__.ipynb",
   "output_path": "__notebook__.ipynb",
   "parameters": {},
   "start_time": "2023-03-28T11:06:47.378979",
   "version": "2.4.0"
  }
 },
 "nbformat": 4,
 "nbformat_minor": 5
}
