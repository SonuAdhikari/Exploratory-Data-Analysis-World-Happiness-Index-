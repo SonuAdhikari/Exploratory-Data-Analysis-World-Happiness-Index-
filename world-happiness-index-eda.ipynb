{
 "cells": [
  {
   "cell_type": "code",
   "execution_count": 1,
   "id": "2f2d6ddc",
   "metadata": {
    "_cell_guid": "b1076dfc-b9ad-4769-8c92-a6c4dae69d19",
    "_uuid": "8f2839f25d086af736a60e9eeb907d3b93b6e0e5",
    "execution": {
     "iopub.execute_input": "2023-03-28T11:01:26.643428Z",
     "iopub.status.busy": "2023-03-28T11:01:26.642845Z",
     "iopub.status.idle": "2023-03-28T11:01:26.663086Z",
     "shell.execute_reply": "2023-03-28T11:01:26.661765Z"
    },
    "papermill": {
     "duration": 0.034613,
     "end_time": "2023-03-28T11:01:26.667287",
     "exception": false,
     "start_time": "2023-03-28T11:01:26.632674",
     "status": "completed"
    },
    "tags": []
   },
   "outputs": [
    {
     "name": "stdout",
     "output_type": "stream",
     "text": [
      "/kaggle/input/world-happiness-index-by-reports-2013-2023/World Happiness Index by Reports 2013-2023 no nulls.csv\n",
      "/kaggle/input/world-happiness-index-by-reports-2013-2023/World Happiness Index by Reports 2013-2023 with nulls.csv\n",
      "/kaggle/input/world-happiness-index-by-reports-2013-2023/World Happiness Index by Reports 2013-2023.xlsx\n"
     ]
    }
   ],
   "source": [
    "# This Python 3 environment comes with many helpful analytics libraries installed\n",
    "# It is defined by the kaggle/python Docker image: https://github.com/kaggle/docker-python\n",
    "# For example, here's several helpful packages to load\n",
    "\n",
    "import numpy as np # linear algebra\n",
    "import pandas as pd # data processing, CSV file I/O (e.g. pd.read_csv)\n",
    "\n",
    "# Input data files are available in the read-only \"../input/\" directory\n",
    "# For example, running this (by clicking run or pressing Shift+Enter) will list all files under the input directory\n",
    "\n",
    "import os\n",
    "for dirname, _, filenames in os.walk('/kaggle/input'):\n",
    "    for filename in filenames:\n",
    "        print(os.path.join(dirname, filename))\n",
    "\n",
    "# You can write up to 20GB to the current directory (/kaggle/working/) that gets preserved as output when you create a version using \"Save & Run All\" \n",
    "# You can also write temporary files to /kaggle/temp/, but they won't be saved outside of the current session"
   ]
  },
  {
   "cell_type": "markdown",
   "id": "454281fb",
   "metadata": {
    "papermill": {
     "duration": 0.006364,
     "end_time": "2023-03-28T11:01:26.680947",
     "exception": false,
     "start_time": "2023-03-28T11:01:26.674583",
     "status": "completed"
    },
    "tags": []
   },
   "source": [
    "**Exploratory Data Analysis of World Happiness Index Data 2013-2023**"
   ]
  },
  {
   "cell_type": "code",
   "execution_count": 2,
   "id": "a4e276b3",
   "metadata": {
    "execution": {
     "iopub.execute_input": "2023-03-28T11:01:26.697148Z",
     "iopub.status.busy": "2023-03-28T11:01:26.695943Z",
     "iopub.status.idle": "2023-03-28T11:01:26.701704Z",
     "shell.execute_reply": "2023-03-28T11:01:26.700178Z"
    },
    "papermill": {
     "duration": 0.016395,
     "end_time": "2023-03-28T11:01:26.704360",
     "exception": false,
     "start_time": "2023-03-28T11:01:26.687965",
     "status": "completed"
    },
    "tags": []
   },
   "outputs": [],
   "source": [
    "#importing the libraries\n",
    "import pandas as pd\n",
    "import numpy as np"
   ]
  },
  {
   "cell_type": "code",
   "execution_count": 3,
   "id": "7b5239b8",
   "metadata": {
    "execution": {
     "iopub.execute_input": "2023-03-28T11:01:26.720426Z",
     "iopub.status.busy": "2023-03-28T11:01:26.719257Z",
     "iopub.status.idle": "2023-03-28T11:01:26.768815Z",
     "shell.execute_reply": "2023-03-28T11:01:26.767184Z"
    },
    "papermill": {
     "duration": 0.060368,
     "end_time": "2023-03-28T11:01:26.771557",
     "exception": false,
     "start_time": "2023-03-28T11:01:26.711189",
     "status": "completed"
    },
    "tags": []
   },
   "outputs": [
    {
     "data": {
      "text/html": [
       "<div>\n",
       "<style scoped>\n",
       "    .dataframe tbody tr th:only-of-type {\n",
       "        vertical-align: middle;\n",
       "    }\n",
       "\n",
       "    .dataframe tbody tr th {\n",
       "        vertical-align: top;\n",
       "    }\n",
       "\n",
       "    .dataframe thead th {\n",
       "        text-align: right;\n",
       "    }\n",
       "</style>\n",
       "<table border=\"1\" class=\"dataframe\">\n",
       "  <thead>\n",
       "    <tr style=\"text-align: right;\">\n",
       "      <th></th>\n",
       "      <th>Country</th>\n",
       "      <th>Year</th>\n",
       "      <th>Index</th>\n",
       "      <th>Rank</th>\n",
       "    </tr>\n",
       "  </thead>\n",
       "  <tbody>\n",
       "    <tr>\n",
       "      <th>0</th>\n",
       "      <td>Afghanistan</td>\n",
       "      <td>2013</td>\n",
       "      <td>4.040</td>\n",
       "      <td>143</td>\n",
       "    </tr>\n",
       "    <tr>\n",
       "      <th>1</th>\n",
       "      <td>Afghanistan</td>\n",
       "      <td>2015</td>\n",
       "      <td>3.575</td>\n",
       "      <td>153</td>\n",
       "    </tr>\n",
       "    <tr>\n",
       "      <th>2</th>\n",
       "      <td>Afghanistan</td>\n",
       "      <td>2016</td>\n",
       "      <td>3.360</td>\n",
       "      <td>154</td>\n",
       "    </tr>\n",
       "    <tr>\n",
       "      <th>3</th>\n",
       "      <td>Afghanistan</td>\n",
       "      <td>2017</td>\n",
       "      <td>3.794</td>\n",
       "      <td>141</td>\n",
       "    </tr>\n",
       "    <tr>\n",
       "      <th>4</th>\n",
       "      <td>Afghanistan</td>\n",
       "      <td>2018</td>\n",
       "      <td>3.632</td>\n",
       "      <td>145</td>\n",
       "    </tr>\n",
       "    <tr>\n",
       "      <th>...</th>\n",
       "      <td>...</td>\n",
       "      <td>...</td>\n",
       "      <td>...</td>\n",
       "      <td>...</td>\n",
       "    </tr>\n",
       "    <tr>\n",
       "      <th>1518</th>\n",
       "      <td>Zimbabwe</td>\n",
       "      <td>2019</td>\n",
       "      <td>3.663</td>\n",
       "      <td>146</td>\n",
       "    </tr>\n",
       "    <tr>\n",
       "      <th>1519</th>\n",
       "      <td>Zimbabwe</td>\n",
       "      <td>2020</td>\n",
       "      <td>3.299</td>\n",
       "      <td>151</td>\n",
       "    </tr>\n",
       "    <tr>\n",
       "      <th>1520</th>\n",
       "      <td>Zimbabwe</td>\n",
       "      <td>2021</td>\n",
       "      <td>3.145</td>\n",
       "      <td>148</td>\n",
       "    </tr>\n",
       "    <tr>\n",
       "      <th>1521</th>\n",
       "      <td>Zimbabwe</td>\n",
       "      <td>2022</td>\n",
       "      <td>2.995</td>\n",
       "      <td>144</td>\n",
       "    </tr>\n",
       "    <tr>\n",
       "      <th>1522</th>\n",
       "      <td>Zimbabwe</td>\n",
       "      <td>2023</td>\n",
       "      <td>3.204</td>\n",
       "      <td>134</td>\n",
       "    </tr>\n",
       "  </tbody>\n",
       "</table>\n",
       "<p>1523 rows × 4 columns</p>\n",
       "</div>"
      ],
      "text/plain": [
       "          Country  Year  Index  Rank\n",
       "0     Afghanistan  2013  4.040   143\n",
       "1     Afghanistan  2015  3.575   153\n",
       "2     Afghanistan  2016  3.360   154\n",
       "3     Afghanistan  2017  3.794   141\n",
       "4     Afghanistan  2018  3.632   145\n",
       "...           ...   ...    ...   ...\n",
       "1518     Zimbabwe  2019  3.663   146\n",
       "1519     Zimbabwe  2020  3.299   151\n",
       "1520     Zimbabwe  2021  3.145   148\n",
       "1521     Zimbabwe  2022  2.995   144\n",
       "1522     Zimbabwe  2023  3.204   134\n",
       "\n",
       "[1523 rows x 4 columns]"
      ]
     },
     "execution_count": 3,
     "metadata": {},
     "output_type": "execute_result"
    }
   ],
   "source": [
    "#Reading the dataset\n",
    "country_list=pd.read_csv(\"/kaggle/input/world-happiness-index-by-reports-2013-2023/World Happiness Index by Reports 2013-2023 no nulls.csv\")\n",
    "country_list"
   ]
  },
  {
   "cell_type": "code",
   "execution_count": 4,
   "id": "174d53ff",
   "metadata": {
    "execution": {
     "iopub.execute_input": "2023-03-28T11:01:26.787447Z",
     "iopub.status.busy": "2023-03-28T11:01:26.786571Z",
     "iopub.status.idle": "2023-03-28T11:01:26.799395Z",
     "shell.execute_reply": "2023-03-28T11:01:26.797944Z"
    },
    "papermill": {
     "duration": 0.02359,
     "end_time": "2023-03-28T11:01:26.801997",
     "exception": false,
     "start_time": "2023-03-28T11:01:26.778407",
     "status": "completed"
    },
    "tags": []
   },
   "outputs": [
    {
     "data": {
      "text/html": [
       "<div>\n",
       "<style scoped>\n",
       "    .dataframe tbody tr th:only-of-type {\n",
       "        vertical-align: middle;\n",
       "    }\n",
       "\n",
       "    .dataframe tbody tr th {\n",
       "        vertical-align: top;\n",
       "    }\n",
       "\n",
       "    .dataframe thead th {\n",
       "        text-align: right;\n",
       "    }\n",
       "</style>\n",
       "<table border=\"1\" class=\"dataframe\">\n",
       "  <thead>\n",
       "    <tr style=\"text-align: right;\">\n",
       "      <th></th>\n",
       "      <th>Country</th>\n",
       "      <th>Year</th>\n",
       "      <th>Index</th>\n",
       "      <th>Rank</th>\n",
       "    </tr>\n",
       "  </thead>\n",
       "  <tbody>\n",
       "    <tr>\n",
       "      <th>0</th>\n",
       "      <td>Afghanistan</td>\n",
       "      <td>2013</td>\n",
       "      <td>4.040</td>\n",
       "      <td>143</td>\n",
       "    </tr>\n",
       "    <tr>\n",
       "      <th>1</th>\n",
       "      <td>Afghanistan</td>\n",
       "      <td>2015</td>\n",
       "      <td>3.575</td>\n",
       "      <td>153</td>\n",
       "    </tr>\n",
       "    <tr>\n",
       "      <th>2</th>\n",
       "      <td>Afghanistan</td>\n",
       "      <td>2016</td>\n",
       "      <td>3.360</td>\n",
       "      <td>154</td>\n",
       "    </tr>\n",
       "    <tr>\n",
       "      <th>3</th>\n",
       "      <td>Afghanistan</td>\n",
       "      <td>2017</td>\n",
       "      <td>3.794</td>\n",
       "      <td>141</td>\n",
       "    </tr>\n",
       "    <tr>\n",
       "      <th>4</th>\n",
       "      <td>Afghanistan</td>\n",
       "      <td>2018</td>\n",
       "      <td>3.632</td>\n",
       "      <td>145</td>\n",
       "    </tr>\n",
       "  </tbody>\n",
       "</table>\n",
       "</div>"
      ],
      "text/plain": [
       "       Country  Year  Index  Rank\n",
       "0  Afghanistan  2013  4.040   143\n",
       "1  Afghanistan  2015  3.575   153\n",
       "2  Afghanistan  2016  3.360   154\n",
       "3  Afghanistan  2017  3.794   141\n",
       "4  Afghanistan  2018  3.632   145"
      ]
     },
     "execution_count": 4,
     "metadata": {},
     "output_type": "execute_result"
    }
   ],
   "source": [
    "#getting the top 5 rows from the dataset\n",
    "country_list.head()"
   ]
  },
  {
   "cell_type": "code",
   "execution_count": 5,
   "id": "2967ecfe",
   "metadata": {
    "execution": {
     "iopub.execute_input": "2023-03-28T11:01:26.818127Z",
     "iopub.status.busy": "2023-03-28T11:01:26.817645Z",
     "iopub.status.idle": "2023-03-28T11:01:26.825030Z",
     "shell.execute_reply": "2023-03-28T11:01:26.823720Z"
    },
    "papermill": {
     "duration": 0.019035,
     "end_time": "2023-03-28T11:01:26.828027",
     "exception": false,
     "start_time": "2023-03-28T11:01:26.808992",
     "status": "completed"
    },
    "tags": []
   },
   "outputs": [
    {
     "data": {
      "text/plain": [
       "(1523, 4)"
      ]
     },
     "execution_count": 5,
     "metadata": {},
     "output_type": "execute_result"
    }
   ],
   "source": [
    "#showing the number of rows and columns\n",
    "country_list.shape"
   ]
  },
  {
   "cell_type": "code",
   "execution_count": 6,
   "id": "a069c5e2",
   "metadata": {
    "execution": {
     "iopub.execute_input": "2023-03-28T11:01:26.844247Z",
     "iopub.status.busy": "2023-03-28T11:01:26.843767Z",
     "iopub.status.idle": "2023-03-28T11:01:26.855509Z",
     "shell.execute_reply": "2023-03-28T11:01:26.854200Z"
    },
    "papermill": {
     "duration": 0.022868,
     "end_time": "2023-03-28T11:01:26.858002",
     "exception": false,
     "start_time": "2023-03-28T11:01:26.835134",
     "status": "completed"
    },
    "tags": []
   },
   "outputs": [
    {
     "data": {
      "text/html": [
       "<div>\n",
       "<style scoped>\n",
       "    .dataframe tbody tr th:only-of-type {\n",
       "        vertical-align: middle;\n",
       "    }\n",
       "\n",
       "    .dataframe tbody tr th {\n",
       "        vertical-align: top;\n",
       "    }\n",
       "\n",
       "    .dataframe thead th {\n",
       "        text-align: right;\n",
       "    }\n",
       "</style>\n",
       "<table border=\"1\" class=\"dataframe\">\n",
       "  <thead>\n",
       "    <tr style=\"text-align: right;\">\n",
       "      <th></th>\n",
       "      <th>Country</th>\n",
       "      <th>Year</th>\n",
       "      <th>Index</th>\n",
       "      <th>Rank</th>\n",
       "    </tr>\n",
       "  </thead>\n",
       "  <tbody>\n",
       "    <tr>\n",
       "      <th>1518</th>\n",
       "      <td>Zimbabwe</td>\n",
       "      <td>2019</td>\n",
       "      <td>3.663</td>\n",
       "      <td>146</td>\n",
       "    </tr>\n",
       "    <tr>\n",
       "      <th>1519</th>\n",
       "      <td>Zimbabwe</td>\n",
       "      <td>2020</td>\n",
       "      <td>3.299</td>\n",
       "      <td>151</td>\n",
       "    </tr>\n",
       "    <tr>\n",
       "      <th>1520</th>\n",
       "      <td>Zimbabwe</td>\n",
       "      <td>2021</td>\n",
       "      <td>3.145</td>\n",
       "      <td>148</td>\n",
       "    </tr>\n",
       "    <tr>\n",
       "      <th>1521</th>\n",
       "      <td>Zimbabwe</td>\n",
       "      <td>2022</td>\n",
       "      <td>2.995</td>\n",
       "      <td>144</td>\n",
       "    </tr>\n",
       "    <tr>\n",
       "      <th>1522</th>\n",
       "      <td>Zimbabwe</td>\n",
       "      <td>2023</td>\n",
       "      <td>3.204</td>\n",
       "      <td>134</td>\n",
       "    </tr>\n",
       "  </tbody>\n",
       "</table>\n",
       "</div>"
      ],
      "text/plain": [
       "       Country  Year  Index  Rank\n",
       "1518  Zimbabwe  2019  3.663   146\n",
       "1519  Zimbabwe  2020  3.299   151\n",
       "1520  Zimbabwe  2021  3.145   148\n",
       "1521  Zimbabwe  2022  2.995   144\n",
       "1522  Zimbabwe  2023  3.204   134"
      ]
     },
     "execution_count": 6,
     "metadata": {},
     "output_type": "execute_result"
    }
   ],
   "source": [
    "#getting the last 5 rows from the dataset\n",
    "country_list.tail()"
   ]
  },
  {
   "cell_type": "code",
   "execution_count": 7,
   "id": "a4ec03a0",
   "metadata": {
    "execution": {
     "iopub.execute_input": "2023-03-28T11:01:26.874208Z",
     "iopub.status.busy": "2023-03-28T11:01:26.873773Z",
     "iopub.status.idle": "2023-03-28T11:01:26.899030Z",
     "shell.execute_reply": "2023-03-28T11:01:26.897483Z"
    },
    "papermill": {
     "duration": 0.036807,
     "end_time": "2023-03-28T11:01:26.902023",
     "exception": false,
     "start_time": "2023-03-28T11:01:26.865216",
     "status": "completed"
    },
    "tags": []
   },
   "outputs": [
    {
     "name": "stdout",
     "output_type": "stream",
     "text": [
      "<class 'pandas.core.frame.DataFrame'>\n",
      "RangeIndex: 1523 entries, 0 to 1522\n",
      "Data columns (total 4 columns):\n",
      " #   Column   Non-Null Count  Dtype  \n",
      "---  ------   --------------  -----  \n",
      " 0   Country  1523 non-null   object \n",
      " 1   Year     1523 non-null   int64  \n",
      " 2   Index    1523 non-null   float64\n",
      " 3   Rank     1523 non-null   int64  \n",
      "dtypes: float64(1), int64(2), object(1)\n",
      "memory usage: 47.7+ KB\n"
     ]
    }
   ],
   "source": [
    "#getting a brief summary of the dataframe\n",
    "country_list.info()"
   ]
  },
  {
   "cell_type": "code",
   "execution_count": 8,
   "id": "a45da4f6",
   "metadata": {
    "execution": {
     "iopub.execute_input": "2023-03-28T11:01:26.919623Z",
     "iopub.status.busy": "2023-03-28T11:01:26.918434Z",
     "iopub.status.idle": "2023-03-28T11:01:26.926485Z",
     "shell.execute_reply": "2023-03-28T11:01:26.925338Z"
    },
    "papermill": {
     "duration": 0.019689,
     "end_time": "2023-03-28T11:01:26.929091",
     "exception": false,
     "start_time": "2023-03-28T11:01:26.909402",
     "status": "completed"
    },
    "tags": []
   },
   "outputs": [
    {
     "data": {
      "text/plain": [
       "6092"
      ]
     },
     "execution_count": 8,
     "metadata": {},
     "output_type": "execute_result"
    }
   ],
   "source": [
    "#number of elements in this dataframe\n",
    "country_list.size"
   ]
  },
  {
   "cell_type": "code",
   "execution_count": 9,
   "id": "fab25a3c",
   "metadata": {
    "execution": {
     "iopub.execute_input": "2023-03-28T11:01:26.946295Z",
     "iopub.status.busy": "2023-03-28T11:01:26.945818Z",
     "iopub.status.idle": "2023-03-28T11:01:26.953357Z",
     "shell.execute_reply": "2023-03-28T11:01:26.952143Z"
    },
    "papermill": {
     "duration": 0.019254,
     "end_time": "2023-03-28T11:01:26.956040",
     "exception": false,
     "start_time": "2023-03-28T11:01:26.936786",
     "status": "completed"
    },
    "tags": []
   },
   "outputs": [
    {
     "data": {
      "text/plain": [
       "2"
      ]
     },
     "execution_count": 9,
     "metadata": {},
     "output_type": "execute_result"
    }
   ],
   "source": [
    "#returns dimension of dataframe\n",
    "country_list.ndim"
   ]
  },
  {
   "cell_type": "code",
   "execution_count": 10,
   "id": "92096f4b",
   "metadata": {
    "execution": {
     "iopub.execute_input": "2023-03-28T11:01:26.973222Z",
     "iopub.status.busy": "2023-03-28T11:01:26.972411Z",
     "iopub.status.idle": "2023-03-28T11:01:26.997666Z",
     "shell.execute_reply": "2023-03-28T11:01:26.996300Z"
    },
    "papermill": {
     "duration": 0.03692,
     "end_time": "2023-03-28T11:01:27.000402",
     "exception": false,
     "start_time": "2023-03-28T11:01:26.963482",
     "status": "completed"
    },
    "tags": []
   },
   "outputs": [
    {
     "data": {
      "text/html": [
       "<div>\n",
       "<style scoped>\n",
       "    .dataframe tbody tr th:only-of-type {\n",
       "        vertical-align: middle;\n",
       "    }\n",
       "\n",
       "    .dataframe tbody tr th {\n",
       "        vertical-align: top;\n",
       "    }\n",
       "\n",
       "    .dataframe thead th {\n",
       "        text-align: right;\n",
       "    }\n",
       "</style>\n",
       "<table border=\"1\" class=\"dataframe\">\n",
       "  <thead>\n",
       "    <tr style=\"text-align: right;\">\n",
       "      <th></th>\n",
       "      <th>Year</th>\n",
       "      <th>Index</th>\n",
       "      <th>Rank</th>\n",
       "    </tr>\n",
       "  </thead>\n",
       "  <tbody>\n",
       "    <tr>\n",
       "      <th>count</th>\n",
       "      <td>1523.000000</td>\n",
       "      <td>1523.000000</td>\n",
       "      <td>1523.000000</td>\n",
       "    </tr>\n",
       "    <tr>\n",
       "      <th>mean</th>\n",
       "      <td>2018.298752</td>\n",
       "      <td>5.438242</td>\n",
       "      <td>76.777413</td>\n",
       "    </tr>\n",
       "    <tr>\n",
       "      <th>std</th>\n",
       "      <td>3.015408</td>\n",
       "      <td>1.115623</td>\n",
       "      <td>44.190303</td>\n",
       "    </tr>\n",
       "    <tr>\n",
       "      <th>min</th>\n",
       "      <td>2013.000000</td>\n",
       "      <td>1.859000</td>\n",
       "      <td>1.000000</td>\n",
       "    </tr>\n",
       "    <tr>\n",
       "      <th>25%</th>\n",
       "      <td>2016.000000</td>\n",
       "      <td>4.594000</td>\n",
       "      <td>39.000000</td>\n",
       "    </tr>\n",
       "    <tr>\n",
       "      <th>50%</th>\n",
       "      <td>2018.000000</td>\n",
       "      <td>5.425000</td>\n",
       "      <td>77.000000</td>\n",
       "    </tr>\n",
       "    <tr>\n",
       "      <th>75%</th>\n",
       "      <td>2021.000000</td>\n",
       "      <td>6.258500</td>\n",
       "      <td>115.000000</td>\n",
       "    </tr>\n",
       "    <tr>\n",
       "      <th>max</th>\n",
       "      <td>2023.000000</td>\n",
       "      <td>7.842000</td>\n",
       "      <td>158.000000</td>\n",
       "    </tr>\n",
       "  </tbody>\n",
       "</table>\n",
       "</div>"
      ],
      "text/plain": [
       "              Year        Index         Rank\n",
       "count  1523.000000  1523.000000  1523.000000\n",
       "mean   2018.298752     5.438242    76.777413\n",
       "std       3.015408     1.115623    44.190303\n",
       "min    2013.000000     1.859000     1.000000\n",
       "25%    2016.000000     4.594000    39.000000\n",
       "50%    2018.000000     5.425000    77.000000\n",
       "75%    2021.000000     6.258500   115.000000\n",
       "max    2023.000000     7.842000   158.000000"
      ]
     },
     "execution_count": 10,
     "metadata": {},
     "output_type": "execute_result"
    }
   ],
   "source": [
    "#statistical summary for numerical columns present in the dataset\n",
    "country_list.describe()"
   ]
  },
  {
   "cell_type": "code",
   "execution_count": 11,
   "id": "e52d17d9",
   "metadata": {
    "execution": {
     "iopub.execute_input": "2023-03-28T11:01:27.019247Z",
     "iopub.status.busy": "2023-03-28T11:01:27.018247Z",
     "iopub.status.idle": "2023-03-28T11:01:27.030911Z",
     "shell.execute_reply": "2023-03-28T11:01:27.029925Z"
    },
    "papermill": {
     "duration": 0.024416,
     "end_time": "2023-03-28T11:01:27.033629",
     "exception": false,
     "start_time": "2023-03-28T11:01:27.009213",
     "status": "completed"
    },
    "tags": []
   },
   "outputs": [
    {
     "data": {
      "text/html": [
       "<div>\n",
       "<style scoped>\n",
       "    .dataframe tbody tr th:only-of-type {\n",
       "        vertical-align: middle;\n",
       "    }\n",
       "\n",
       "    .dataframe tbody tr th {\n",
       "        vertical-align: top;\n",
       "    }\n",
       "\n",
       "    .dataframe thead th {\n",
       "        text-align: right;\n",
       "    }\n",
       "</style>\n",
       "<table border=\"1\" class=\"dataframe\">\n",
       "  <thead>\n",
       "    <tr style=\"text-align: right;\">\n",
       "      <th></th>\n",
       "      <th>Country</th>\n",
       "      <th>Year</th>\n",
       "      <th>Index</th>\n",
       "      <th>Rank</th>\n",
       "    </tr>\n",
       "  </thead>\n",
       "  <tbody>\n",
       "    <tr>\n",
       "      <th>444</th>\n",
       "      <td>Gabon</td>\n",
       "      <td>2013</td>\n",
       "      <td>4.114</td>\n",
       "      <td>138</td>\n",
       "    </tr>\n",
       "  </tbody>\n",
       "</table>\n",
       "</div>"
      ],
      "text/plain": [
       "    Country  Year  Index  Rank\n",
       "444   Gabon  2013  4.114   138"
      ]
     },
     "execution_count": 11,
     "metadata": {},
     "output_type": "execute_result"
    }
   ],
   "source": [
    "#returns random sample from dataset\n",
    "country_list.sample()"
   ]
  },
  {
   "cell_type": "code",
   "execution_count": 12,
   "id": "591cddcb",
   "metadata": {
    "execution": {
     "iopub.execute_input": "2023-03-28T11:01:27.052122Z",
     "iopub.status.busy": "2023-03-28T11:01:27.051590Z",
     "iopub.status.idle": "2023-03-28T11:01:27.062715Z",
     "shell.execute_reply": "2023-03-28T11:01:27.061491Z"
    },
    "papermill": {
     "duration": 0.023507,
     "end_time": "2023-03-28T11:01:27.065344",
     "exception": false,
     "start_time": "2023-03-28T11:01:27.041837",
     "status": "completed"
    },
    "tags": []
   },
   "outputs": [
    {
     "data": {
      "text/plain": [
       "Country    0\n",
       "Year       0\n",
       "Index      0\n",
       "Rank       0\n",
       "dtype: int64"
      ]
     },
     "execution_count": 12,
     "metadata": {},
     "output_type": "execute_result"
    }
   ],
   "source": [
    "#returns the number of null values in each columns\n",
    "country_list.isnull( ).sum( )"
   ]
  },
  {
   "cell_type": "code",
   "execution_count": 13,
   "id": "13c1b15e",
   "metadata": {
    "execution": {
     "iopub.execute_input": "2023-03-28T11:01:27.083270Z",
     "iopub.status.busy": "2023-03-28T11:01:27.082767Z",
     "iopub.status.idle": "2023-03-28T11:01:27.095553Z",
     "shell.execute_reply": "2023-03-28T11:01:27.094183Z"
    },
    "papermill": {
     "duration": 0.024851,
     "end_time": "2023-03-28T11:01:27.098277",
     "exception": false,
     "start_time": "2023-03-28T11:01:27.073426",
     "status": "completed"
    },
    "tags": []
   },
   "outputs": [
    {
     "data": {
      "text/plain": [
       "Country     167\n",
       "Year         10\n",
       "Index      1209\n",
       "Rank        158\n",
       "dtype: int64"
      ]
     },
     "execution_count": 13,
     "metadata": {},
     "output_type": "execute_result"
    }
   ],
   "source": [
    "#Returns number of unique entries in each columns\n",
    "country_list.nunique()"
   ]
  },
  {
   "cell_type": "code",
   "execution_count": 14,
   "id": "11965b0c",
   "metadata": {
    "execution": {
     "iopub.execute_input": "2023-03-28T11:01:27.117060Z",
     "iopub.status.busy": "2023-03-28T11:01:27.116252Z",
     "iopub.status.idle": "2023-03-28T11:01:27.124071Z",
     "shell.execute_reply": "2023-03-28T11:01:27.122812Z"
    },
    "papermill": {
     "duration": 0.019815,
     "end_time": "2023-03-28T11:01:27.126504",
     "exception": false,
     "start_time": "2023-03-28T11:01:27.106689",
     "status": "completed"
    },
    "tags": []
   },
   "outputs": [
    {
     "data": {
      "text/plain": [
       "RangeIndex(start=0, stop=1523, step=1)"
      ]
     },
     "execution_count": 14,
     "metadata": {},
     "output_type": "execute_result"
    }
   ],
   "source": [
    "#returns starting and ending index values\n",
    "country_list.index"
   ]
  },
  {
   "cell_type": "code",
   "execution_count": 15,
   "id": "f5265f3b",
   "metadata": {
    "execution": {
     "iopub.execute_input": "2023-03-28T11:01:27.145347Z",
     "iopub.status.busy": "2023-03-28T11:01:27.144876Z",
     "iopub.status.idle": "2023-03-28T11:01:27.152456Z",
     "shell.execute_reply": "2023-03-28T11:01:27.151192Z"
    },
    "papermill": {
     "duration": 0.020342,
     "end_time": "2023-03-28T11:01:27.155032",
     "exception": false,
     "start_time": "2023-03-28T11:01:27.134690",
     "status": "completed"
    },
    "tags": []
   },
   "outputs": [
    {
     "data": {
      "text/plain": [
       "Index(['Country', 'Year', 'Index', 'Rank'], dtype='object')"
      ]
     },
     "execution_count": 15,
     "metadata": {},
     "output_type": "execute_result"
    }
   ],
   "source": [
    "#lists the columns in the dataset\n",
    "country_list.columns"
   ]
  },
  {
   "cell_type": "code",
   "execution_count": 16,
   "id": "03110514",
   "metadata": {
    "execution": {
     "iopub.execute_input": "2023-03-28T11:01:27.173552Z",
     "iopub.status.busy": "2023-03-28T11:01:27.173124Z",
     "iopub.status.idle": "2023-03-28T11:01:27.182821Z",
     "shell.execute_reply": "2023-03-28T11:01:27.181499Z"
    },
    "papermill": {
     "duration": 0.021961,
     "end_time": "2023-03-28T11:01:27.185398",
     "exception": false,
     "start_time": "2023-03-28T11:01:27.163437",
     "status": "completed"
    },
    "tags": []
   },
   "outputs": [
    {
     "data": {
      "text/plain": [
       "Index        128\n",
       "Country    12184\n",
       "Year       12184\n",
       "Index      12184\n",
       "Rank       12184\n",
       "dtype: int64"
      ]
     },
     "execution_count": 16,
     "metadata": {},
     "output_type": "execute_result"
    }
   ],
   "source": [
    "#returns memory usage in bytes\n",
    "country_list.memory_usage( )"
   ]
  },
  {
   "cell_type": "code",
   "execution_count": 17,
   "id": "4b0cddcc",
   "metadata": {
    "execution": {
     "iopub.execute_input": "2023-03-28T11:01:27.204695Z",
     "iopub.status.busy": "2023-03-28T11:01:27.204229Z",
     "iopub.status.idle": "2023-03-28T11:01:27.215561Z",
     "shell.execute_reply": "2023-03-28T11:01:27.214622Z"
    },
    "papermill": {
     "duration": 0.023821,
     "end_time": "2023-03-28T11:01:27.217752",
     "exception": false,
     "start_time": "2023-03-28T11:01:27.193931",
     "status": "completed"
    },
    "tags": []
   },
   "outputs": [
    {
     "data": {
      "text/plain": [
       "(1523, 4)"
      ]
     },
     "execution_count": 17,
     "metadata": {},
     "output_type": "execute_result"
    }
   ],
   "source": [
    "#drops any missing values\n",
    "country_list.dropna( )\n",
    "country_list.shape"
   ]
  },
  {
   "cell_type": "code",
   "execution_count": 18,
   "id": "4d54187e",
   "metadata": {
    "execution": {
     "iopub.execute_input": "2023-03-28T11:01:27.236663Z",
     "iopub.status.busy": "2023-03-28T11:01:27.236231Z",
     "iopub.status.idle": "2023-03-28T11:01:27.244714Z",
     "shell.execute_reply": "2023-03-28T11:01:27.243360Z"
    },
    "papermill": {
     "duration": 0.020591,
     "end_time": "2023-03-28T11:01:27.246895",
     "exception": false,
     "start_time": "2023-03-28T11:01:27.226304",
     "status": "completed"
    },
    "tags": []
   },
   "outputs": [
    {
     "data": {
      "text/plain": [
       "Country     object\n",
       "Year         int64\n",
       "Index      float64\n",
       "Rank         int64\n",
       "dtype: object"
      ]
     },
     "execution_count": 18,
     "metadata": {},
     "output_type": "execute_result"
    }
   ],
   "source": [
    "#returns the datatype of the columns\n",
    "country_list.dtypes"
   ]
  },
  {
   "cell_type": "code",
   "execution_count": 19,
   "id": "c95a5a7f",
   "metadata": {
    "execution": {
     "iopub.execute_input": "2023-03-28T11:01:27.265973Z",
     "iopub.status.busy": "2023-03-28T11:01:27.265536Z",
     "iopub.status.idle": "2023-03-28T11:01:27.279854Z",
     "shell.execute_reply": "2023-03-28T11:01:27.278631Z"
    },
    "papermill": {
     "duration": 0.026827,
     "end_time": "2023-03-28T11:01:27.282335",
     "exception": false,
     "start_time": "2023-03-28T11:01:27.255508",
     "status": "completed"
    },
    "tags": []
   },
   "outputs": [
    {
     "data": {
      "text/html": [
       "<div>\n",
       "<style scoped>\n",
       "    .dataframe tbody tr th:only-of-type {\n",
       "        vertical-align: middle;\n",
       "    }\n",
       "\n",
       "    .dataframe tbody tr th {\n",
       "        vertical-align: top;\n",
       "    }\n",
       "\n",
       "    .dataframe thead th {\n",
       "        text-align: right;\n",
       "    }\n",
       "</style>\n",
       "<table border=\"1\" class=\"dataframe\">\n",
       "  <thead>\n",
       "    <tr style=\"text-align: right;\">\n",
       "      <th></th>\n",
       "      <th>Year</th>\n",
       "      <th>Index</th>\n",
       "      <th>Rank</th>\n",
       "    </tr>\n",
       "  </thead>\n",
       "  <tbody>\n",
       "    <tr>\n",
       "      <th>Year</th>\n",
       "      <td>1.000000</td>\n",
       "      <td>0.050023</td>\n",
       "      <td>-0.055326</td>\n",
       "    </tr>\n",
       "    <tr>\n",
       "      <th>Index</th>\n",
       "      <td>0.050023</td>\n",
       "      <td>1.000000</td>\n",
       "      <td>-0.986288</td>\n",
       "    </tr>\n",
       "    <tr>\n",
       "      <th>Rank</th>\n",
       "      <td>-0.055326</td>\n",
       "      <td>-0.986288</td>\n",
       "      <td>1.000000</td>\n",
       "    </tr>\n",
       "  </tbody>\n",
       "</table>\n",
       "</div>"
      ],
      "text/plain": [
       "           Year     Index      Rank\n",
       "Year   1.000000  0.050023 -0.055326\n",
       "Index  0.050023  1.000000 -0.986288\n",
       "Rank  -0.055326 -0.986288  1.000000"
      ]
     },
     "execution_count": 19,
     "metadata": {},
     "output_type": "execute_result"
    }
   ],
   "source": [
    "#find the pairwise correlation of all columns in the dataframe \n",
    "#used for feature selection\n",
    "country_list.corr( )"
   ]
  },
  {
   "cell_type": "code",
   "execution_count": 20,
   "id": "871bf148",
   "metadata": {
    "execution": {
     "iopub.execute_input": "2023-03-28T11:01:27.301422Z",
     "iopub.status.busy": "2023-03-28T11:01:27.300969Z",
     "iopub.status.idle": "2023-03-28T11:01:27.310141Z",
     "shell.execute_reply": "2023-03-28T11:01:27.308953Z"
    },
    "papermill": {
     "duration": 0.021782,
     "end_time": "2023-03-28T11:01:27.312693",
     "exception": false,
     "start_time": "2023-03-28T11:01:27.290911",
     "status": "completed"
    },
    "tags": []
   },
   "outputs": [
    {
     "data": {
      "text/plain": [
       "2015    158\n",
       "2016    157\n",
       "2013    156\n",
       "2018    156\n",
       "2019    156\n",
       "2017    155\n",
       "2020    153\n",
       "2021    149\n",
       "2022    146\n",
       "2023    137\n",
       "Name: Year, dtype: int64"
      ]
     },
     "execution_count": 20,
     "metadata": {},
     "output_type": "execute_result"
    }
   ],
   "source": [
    "#used to get a Series containing counts of unique values\n",
    "country_list['Year'].value_counts( )"
   ]
  },
  {
   "cell_type": "code",
   "execution_count": 21,
   "id": "b9171b8c",
   "metadata": {
    "execution": {
     "iopub.execute_input": "2023-03-28T11:01:27.332476Z",
     "iopub.status.busy": "2023-03-28T11:01:27.332026Z",
     "iopub.status.idle": "2023-03-28T11:01:27.349374Z",
     "shell.execute_reply": "2023-03-28T11:01:27.347970Z"
    },
    "papermill": {
     "duration": 0.030185,
     "end_time": "2023-03-28T11:01:27.351691",
     "exception": false,
     "start_time": "2023-03-28T11:01:27.321506",
     "status": "completed"
    },
    "tags": []
   },
   "outputs": [
    {
     "data": {
      "text/html": [
       "<div>\n",
       "<style scoped>\n",
       "    .dataframe tbody tr th:only-of-type {\n",
       "        vertical-align: middle;\n",
       "    }\n",
       "\n",
       "    .dataframe tbody tr th {\n",
       "        vertical-align: top;\n",
       "    }\n",
       "\n",
       "    .dataframe thead th {\n",
       "        text-align: right;\n",
       "    }\n",
       "</style>\n",
       "<table border=\"1\" class=\"dataframe\">\n",
       "  <thead>\n",
       "    <tr style=\"text-align: right;\">\n",
       "      <th></th>\n",
       "      <th>Country</th>\n",
       "      <th>Year</th>\n",
       "      <th>Index</th>\n",
       "      <th>Rank</th>\n",
       "    </tr>\n",
       "  </thead>\n",
       "  <tbody>\n",
       "    <tr>\n",
       "      <th>0</th>\n",
       "      <td>False</td>\n",
       "      <td>False</td>\n",
       "      <td>False</td>\n",
       "      <td>False</td>\n",
       "    </tr>\n",
       "    <tr>\n",
       "      <th>1</th>\n",
       "      <td>False</td>\n",
       "      <td>False</td>\n",
       "      <td>False</td>\n",
       "      <td>False</td>\n",
       "    </tr>\n",
       "    <tr>\n",
       "      <th>2</th>\n",
       "      <td>False</td>\n",
       "      <td>False</td>\n",
       "      <td>False</td>\n",
       "      <td>False</td>\n",
       "    </tr>\n",
       "    <tr>\n",
       "      <th>3</th>\n",
       "      <td>False</td>\n",
       "      <td>False</td>\n",
       "      <td>False</td>\n",
       "      <td>False</td>\n",
       "    </tr>\n",
       "    <tr>\n",
       "      <th>4</th>\n",
       "      <td>False</td>\n",
       "      <td>False</td>\n",
       "      <td>False</td>\n",
       "      <td>False</td>\n",
       "    </tr>\n",
       "    <tr>\n",
       "      <th>...</th>\n",
       "      <td>...</td>\n",
       "      <td>...</td>\n",
       "      <td>...</td>\n",
       "      <td>...</td>\n",
       "    </tr>\n",
       "    <tr>\n",
       "      <th>1518</th>\n",
       "      <td>False</td>\n",
       "      <td>False</td>\n",
       "      <td>False</td>\n",
       "      <td>False</td>\n",
       "    </tr>\n",
       "    <tr>\n",
       "      <th>1519</th>\n",
       "      <td>False</td>\n",
       "      <td>False</td>\n",
       "      <td>False</td>\n",
       "      <td>False</td>\n",
       "    </tr>\n",
       "    <tr>\n",
       "      <th>1520</th>\n",
       "      <td>False</td>\n",
       "      <td>False</td>\n",
       "      <td>False</td>\n",
       "      <td>False</td>\n",
       "    </tr>\n",
       "    <tr>\n",
       "      <th>1521</th>\n",
       "      <td>False</td>\n",
       "      <td>False</td>\n",
       "      <td>False</td>\n",
       "      <td>False</td>\n",
       "    </tr>\n",
       "    <tr>\n",
       "      <th>1522</th>\n",
       "      <td>False</td>\n",
       "      <td>False</td>\n",
       "      <td>False</td>\n",
       "      <td>False</td>\n",
       "    </tr>\n",
       "  </tbody>\n",
       "</table>\n",
       "<p>1523 rows × 4 columns</p>\n",
       "</div>"
      ],
      "text/plain": [
       "      Country   Year  Index   Rank\n",
       "0       False  False  False  False\n",
       "1       False  False  False  False\n",
       "2       False  False  False  False\n",
       "3       False  False  False  False\n",
       "4       False  False  False  False\n",
       "...       ...    ...    ...    ...\n",
       "1518    False  False  False  False\n",
       "1519    False  False  False  False\n",
       "1520    False  False  False  False\n",
       "1521    False  False  False  False\n",
       "1522    False  False  False  False\n",
       "\n",
       "[1523 rows x 4 columns]"
      ]
     },
     "execution_count": 21,
     "metadata": {},
     "output_type": "execute_result"
    }
   ],
   "source": [
    "#returns a dataframe filled with boolean values with true indicating missing values.\n",
    "country_list.isna()"
   ]
  },
  {
   "cell_type": "code",
   "execution_count": 22,
   "id": "b447c7ce",
   "metadata": {
    "execution": {
     "iopub.execute_input": "2023-03-28T11:01:27.371746Z",
     "iopub.status.busy": "2023-03-28T11:01:27.371300Z",
     "iopub.status.idle": "2023-03-28T11:01:27.388656Z",
     "shell.execute_reply": "2023-03-28T11:01:27.387307Z"
    },
    "papermill": {
     "duration": 0.030488,
     "end_time": "2023-03-28T11:01:27.391315",
     "exception": false,
     "start_time": "2023-03-28T11:01:27.360827",
     "status": "completed"
    },
    "tags": []
   },
   "outputs": [
    {
     "data": {
      "text/html": [
       "<div>\n",
       "<style scoped>\n",
       "    .dataframe tbody tr th:only-of-type {\n",
       "        vertical-align: middle;\n",
       "    }\n",
       "\n",
       "    .dataframe tbody tr th {\n",
       "        vertical-align: top;\n",
       "    }\n",
       "\n",
       "    .dataframe thead th {\n",
       "        text-align: right;\n",
       "    }\n",
       "</style>\n",
       "<table border=\"1\" class=\"dataframe\">\n",
       "  <thead>\n",
       "    <tr style=\"text-align: right;\">\n",
       "      <th></th>\n",
       "      <th>Country</th>\n",
       "      <th>Year</th>\n",
       "      <th>Index</th>\n",
       "      <th>Rank</th>\n",
       "    </tr>\n",
       "  </thead>\n",
       "  <tbody>\n",
       "    <tr>\n",
       "      <th>431</th>\n",
       "      <td>Finland</td>\n",
       "      <td>2021</td>\n",
       "      <td>7.842</td>\n",
       "      <td>1</td>\n",
       "    </tr>\n",
       "    <tr>\n",
       "      <th>432</th>\n",
       "      <td>Finland</td>\n",
       "      <td>2022</td>\n",
       "      <td>7.821</td>\n",
       "      <td>1</td>\n",
       "    </tr>\n",
       "    <tr>\n",
       "      <th>430</th>\n",
       "      <td>Finland</td>\n",
       "      <td>2020</td>\n",
       "      <td>7.809</td>\n",
       "      <td>1</td>\n",
       "    </tr>\n",
       "    <tr>\n",
       "      <th>433</th>\n",
       "      <td>Finland</td>\n",
       "      <td>2023</td>\n",
       "      <td>7.804</td>\n",
       "      <td>1</td>\n",
       "    </tr>\n",
       "    <tr>\n",
       "      <th>429</th>\n",
       "      <td>Finland</td>\n",
       "      <td>2019</td>\n",
       "      <td>7.769</td>\n",
       "      <td>1</td>\n",
       "    </tr>\n",
       "  </tbody>\n",
       "</table>\n",
       "</div>"
      ],
      "text/plain": [
       "     Country  Year  Index  Rank\n",
       "431  Finland  2021  7.842     1\n",
       "432  Finland  2022  7.821     1\n",
       "430  Finland  2020  7.809     1\n",
       "433  Finland  2023  7.804     1\n",
       "429  Finland  2019  7.769     1"
      ]
     },
     "execution_count": 22,
     "metadata": {},
     "output_type": "execute_result"
    }
   ],
   "source": [
    "#Returns the first n rows ordered by columns in descending order\n",
    "country_list.nlargest(5,'Index')"
   ]
  },
  {
   "cell_type": "code",
   "execution_count": 23,
   "id": "6e798b91",
   "metadata": {
    "execution": {
     "iopub.execute_input": "2023-03-28T11:01:27.412138Z",
     "iopub.status.busy": "2023-03-28T11:01:27.411690Z",
     "iopub.status.idle": "2023-03-28T11:01:27.422230Z",
     "shell.execute_reply": "2023-03-28T11:01:27.420805Z"
    },
    "papermill": {
     "duration": 0.024273,
     "end_time": "2023-03-28T11:01:27.424865",
     "exception": false,
     "start_time": "2023-03-28T11:01:27.400592",
     "status": "completed"
    },
    "tags": []
   },
   "outputs": [
    {
     "data": {
      "text/plain": [
       "0"
      ]
     },
     "execution_count": 23,
     "metadata": {},
     "output_type": "execute_result"
    }
   ],
   "source": [
    "# returns a boolean Series denoting duplicate rows (not applicable in this dataset)\n",
    "duplicates=country_list.duplicated()\n",
    "duplicates.sum()"
   ]
  },
  {
   "cell_type": "code",
   "execution_count": null,
   "id": "1af8ba6a",
   "metadata": {
    "papermill": {
     "duration": 0.009011,
     "end_time": "2023-03-28T11:01:27.443358",
     "exception": false,
     "start_time": "2023-03-28T11:01:27.434347",
     "status": "completed"
    },
    "tags": []
   },
   "outputs": [],
   "source": []
  }
 ],
 "metadata": {
  "kernelspec": {
   "display_name": "Python 3",
   "language": "python",
   "name": "python3"
  },
  "language_info": {
   "codemirror_mode": {
    "name": "ipython",
    "version": 3
   },
   "file_extension": ".py",
   "mimetype": "text/x-python",
   "name": "python",
   "nbconvert_exporter": "python",
   "pygments_lexer": "ipython3",
   "version": "3.7.12"
  },
  "papermill": {
   "default_parameters": {},
   "duration": 12.198451,
   "end_time": "2023-03-28T11:01:28.176353",
   "environment_variables": {},
   "exception": null,
   "input_path": "__notebook__.ipynb",
   "output_path": "__notebook__.ipynb",
   "parameters": {},
   "start_time": "2023-03-28T11:01:15.977902",
   "version": "2.4.0"
  }
 },
 "nbformat": 4,
 "nbformat_minor": 5
}
